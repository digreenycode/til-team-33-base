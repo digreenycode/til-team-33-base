{
 "cells": [
  {
   "cell_type": "code",
   "execution_count": 2,
   "id": "ca46f404-570f-4a99-a867-1b3e6cc7ccbb",
   "metadata": {},
   "outputs": [
    {
     "data": {
      "text/plain": [
       "'./DFN5B-CLIP-ViT-H-14-378'"
      ]
     },
     "execution_count": 2,
     "metadata": {},
     "output_type": "execute_result"
    }
   ],
   "source": [
    "import shutil\n",
    "\n",
    "# Replace 'source_folder' with the path to the folder you want to copy\n",
    "source_folder = \"/home/jupyter/til-team-33/VLM/DFN5B-CLIP-ViT-H-14-378\"\n",
    "\n",
    "# Copy 'source_folder' to the current directory\n",
    "shutil.copytree(source_folder, './DFN5B-CLIP-ViT-H-14-378')\n"
   ]
  }
 ],
 "metadata": {
  "environment": {
   "kernel": "conda-base-py",
   "name": "workbench-notebooks.m120",
   "type": "gcloud",
   "uri": "us-docker.pkg.dev/deeplearning-platform-release/gcr.io/workbench-notebooks:m120"
  },
  "kernelspec": {
   "display_name": "Python 3 (ipykernel)",
   "language": "python",
   "name": "conda-base-py"
  },
  "language_info": {
   "codemirror_mode": {
    "name": "ipython",
    "version": 3
   },
   "file_extension": ".py",
   "mimetype": "text/x-python",
   "name": "python",
   "nbconvert_exporter": "python",
   "pygments_lexer": "ipython3",
   "version": "3.10.14"
  }
 },
 "nbformat": 4,
 "nbformat_minor": 5
}
